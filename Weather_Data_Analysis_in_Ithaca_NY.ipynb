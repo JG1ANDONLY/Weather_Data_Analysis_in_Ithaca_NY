{
 "cells": [
  {
   "cell_type": "markdown",
   "metadata": {
    "id": "ATGXEeKUl_zo"
   },
   "source": [
    "# Weather Data Analysis in Ithaca, NY from 2021.01 to 2022.04"
   ]
  },
  {
   "cell_type": "markdown",
   "metadata": {
    "id": "2Jx03NremI1c"
   },
   "source": [
    "**Authors:** <br>\n",
    "Zhongyi (James) Guo (zg268@cornell.edu) <br>\n",
    "Zixian (Maggie) Huang (zh359@cornell.edu)<br>\n",
    "**Authors are in no particular order.** <br>\n",
    "**Github Repository:** https://github.com/JG1ANDONLY/Weather_Data_Analysis_in_Ithaca_NY <br>\n",
    "**Date:** 04/27/2022"
   ]
  },
  {
   "cell_type": "markdown",
   "metadata": {
    "id": "GwbTaJ6mmnBc"
   },
   "source": [
    "## Introduction"
   ]
  },
  {
   "cell_type": "markdown",
   "metadata": {
    "id": "Eizga27Roe3-"
   },
   "source": [
    "Ithaca often starts snowing unexpectedly. In this project, we want to study if we can seek to predict when to snow based on the temperature. We hypothesize that it is more likely to snow with lower temperatures.<br>\n",
    "\n",
    "We plan to build two models to study how temperature affects the likelihood of snowing. Hence, we raised this question: <br> \n",
    "- **Can the range of temperature support predictions of snowing?**"
   ]
  },
  {
   "cell_type": "markdown",
   "metadata": {
    "id": "j1UuackWmxtY"
   },
   "source": [
    "## Data Description"
   ]
  },
  {
   "cell_type": "markdown",
   "metadata": {
    "id": "ZiadwaKflb9V"
   },
   "source": [
    "- columns:<br>\n",
    "`STATION`: The identification number of the observation station. <br>\n",
    "`NAME`: The name of the observation station. <br>\n",
    "`LATITUDE`: The latitude of the observation station location (unit: °N). <br>\n",
    "`LONGITUDE`: The longitude of the observation station location (unit: °W).<br>\n",
    "`ELEVATION`: The elevation of the observation station location (unit: ft). <br>\n",
    "`DATE`: The date of the data recorded. <br>\n",
    "`EVAP`: The amount of evaporation (unit: in).<br>\n",
    "`EVAP_ATTRIBUTES`: The attribute for evaporation. <br>\n",
    "`PRCP`: The amount of precipitation (unit: in). <br>\n",
    "`PRCP_ATTRIBUTES`: The attribute for precipitation. <br>\n",
    "`SNOW`: The amount of snow (unit: in). <br>\n",
    "`SNOW_ATTRIBUTES`: The attribute for snow. <br>\n",
    "`SNWD`: The amount of snow measured at the observation station location (unit: in). <br>\n",
    "`SNWD_ATTRIBUTES`: The attribute for snow measured at the observation station location.<br>\n",
    "`TMAX`: The maximum temperature (unit: °F). <br>\n",
    "`TMAX_ATTRIBUTES`: The attribute for maximum temperature. <br>\n",
    "`TMIN`: The minimum temperature (unit: °F). <br>\n",
    "`TMIN_ATTRIBUTES`: The attribute for minimum temperature. <br>\n",
    "`TOBS`:\tThe temperature measured at the observation station (unit: °F). <br>\n",
    "`TOBS_ATTRIBUTES`: The attribute for the temperature measured at the observation station location. <br>\n",
    "\n",
    "- rows:<br>\n",
    "Weather data in every day from 2021-01-01 to 2022-04-19.<br>\n",
    "\n",
    "The dataset `Cornell_Weather_Data_2021.1-2022.4.xlsx` was downloaded from: https://www.ncdc.noaa.gov/cdo-web/datasets/GHCND/stations/GHCND:USC00304174/detail, published by the National Centers For Environmental Information. The cleaned dataset I am using is in this GitHub Repository: https://github.com/JG1ANDONLY/Weather_Data_Analysis_in_Ithaca_NY."
   ]
  },
  {
   "cell_type": "markdown",
   "metadata": {
    "id": "Mt22tdhZm6AZ"
   },
   "source": [
    "## Data Cleaning"
   ]
  },
  {
   "cell_type": "code",
   "execution_count": 1,
   "metadata": {
    "id": "jpHbcjahk-zW"
   },
   "outputs": [],
   "source": [
    "import numpy as np\n",
    "import pandas as pd\n",
    "import matplotlib.pyplot as plt\n",
    "import seaborn as sns\n",
    "import warnings\n",
    "warnings.filterwarnings(\"ignore\")"
   ]
  },
  {
   "cell_type": "code",
   "execution_count": 2,
   "metadata": {
    "id": "Ai9fq0sroJXt"
   },
   "outputs": [
    {
     "data": {
      "text/html": [
       "<div>\n",
       "<style scoped>\n",
       "    .dataframe tbody tr th:only-of-type {\n",
       "        vertical-align: middle;\n",
       "    }\n",
       "\n",
       "    .dataframe tbody tr th {\n",
       "        vertical-align: top;\n",
       "    }\n",
       "\n",
       "    .dataframe thead th {\n",
       "        text-align: right;\n",
       "    }\n",
       "</style>\n",
       "<table border=\"1\" class=\"dataframe\">\n",
       "  <thead>\n",
       "    <tr style=\"text-align: right;\">\n",
       "      <th></th>\n",
       "      <th>STATION</th>\n",
       "      <th>NAME</th>\n",
       "      <th>LATITUDE</th>\n",
       "      <th>LONGITUDE</th>\n",
       "      <th>ELEVATION</th>\n",
       "      <th>DATE</th>\n",
       "      <th>EVAP</th>\n",
       "      <th>EVAP_ATTRIBUTES</th>\n",
       "      <th>PRCP</th>\n",
       "      <th>PRCP_ATTRIBUTES</th>\n",
       "      <th>SNOW</th>\n",
       "      <th>SNOW_ATTRIBUTES</th>\n",
       "      <th>SNWD</th>\n",
       "      <th>SNWD_ATTRIBUTES</th>\n",
       "      <th>TMAX</th>\n",
       "      <th>TMAX_ATTRIBUTES</th>\n",
       "      <th>TMIN</th>\n",
       "      <th>TMIN_ATTRIBUTES</th>\n",
       "      <th>TOBS</th>\n",
       "      <th>TOBS_ATTRIBUTES</th>\n",
       "    </tr>\n",
       "  </thead>\n",
       "  <tbody>\n",
       "    <tr>\n",
       "      <th>0</th>\n",
       "      <td>USC00304174</td>\n",
       "      <td>ITHACA CORNELL UNIVERSITY, NY US</td>\n",
       "      <td>42.44915</td>\n",
       "      <td>-76.44905</td>\n",
       "      <td>292.6</td>\n",
       "      <td>2021-01-01</td>\n",
       "      <td>NaN</td>\n",
       "      <td>NaN</td>\n",
       "      <td>0.00</td>\n",
       "      <td>,,7,0700</td>\n",
       "      <td>0.0</td>\n",
       "      <td>,,7,0700</td>\n",
       "      <td>0</td>\n",
       "      <td>,,7,0700</td>\n",
       "      <td>33</td>\n",
       "      <td>,,7</td>\n",
       "      <td>25</td>\n",
       "      <td>,,7</td>\n",
       "      <td>26</td>\n",
       "      <td>,,7,0700</td>\n",
       "    </tr>\n",
       "    <tr>\n",
       "      <th>1</th>\n",
       "      <td>USC00304174</td>\n",
       "      <td>ITHACA CORNELL UNIVERSITY, NY US</td>\n",
       "      <td>42.44915</td>\n",
       "      <td>-76.44905</td>\n",
       "      <td>292.6</td>\n",
       "      <td>2021-01-02</td>\n",
       "      <td>NaN</td>\n",
       "      <td>NaN</td>\n",
       "      <td>0.47</td>\n",
       "      <td>,,7,0700</td>\n",
       "      <td>0.0</td>\n",
       "      <td>,,7,0700</td>\n",
       "      <td>0</td>\n",
       "      <td>,,7,0700</td>\n",
       "      <td>40</td>\n",
       "      <td>,,7</td>\n",
       "      <td>24</td>\n",
       "      <td>,,7</td>\n",
       "      <td>40</td>\n",
       "      <td>,,7,0700</td>\n",
       "    </tr>\n",
       "    <tr>\n",
       "      <th>2</th>\n",
       "      <td>USC00304174</td>\n",
       "      <td>ITHACA CORNELL UNIVERSITY, NY US</td>\n",
       "      <td>42.44915</td>\n",
       "      <td>-76.44905</td>\n",
       "      <td>292.6</td>\n",
       "      <td>2021-01-03</td>\n",
       "      <td>NaN</td>\n",
       "      <td>NaN</td>\n",
       "      <td>0.00</td>\n",
       "      <td>T,,7,0700</td>\n",
       "      <td>0.0</td>\n",
       "      <td>T,,7,0700</td>\n",
       "      <td>0</td>\n",
       "      <td>,,7,0700</td>\n",
       "      <td>42</td>\n",
       "      <td>,,7</td>\n",
       "      <td>27</td>\n",
       "      <td>,,7</td>\n",
       "      <td>27</td>\n",
       "      <td>,,7,0700</td>\n",
       "    </tr>\n",
       "    <tr>\n",
       "      <th>3</th>\n",
       "      <td>USC00304174</td>\n",
       "      <td>ITHACA CORNELL UNIVERSITY, NY US</td>\n",
       "      <td>42.44915</td>\n",
       "      <td>-76.44905</td>\n",
       "      <td>292.6</td>\n",
       "      <td>2021-01-04</td>\n",
       "      <td>NaN</td>\n",
       "      <td>NaN</td>\n",
       "      <td>0.14</td>\n",
       "      <td>,,7,0700</td>\n",
       "      <td>1.4</td>\n",
       "      <td>,,7,0700</td>\n",
       "      <td>1</td>\n",
       "      <td>,,7,0700</td>\n",
       "      <td>35</td>\n",
       "      <td>,,7</td>\n",
       "      <td>27</td>\n",
       "      <td>,,7</td>\n",
       "      <td>32</td>\n",
       "      <td>,,7,0700</td>\n",
       "    </tr>\n",
       "    <tr>\n",
       "      <th>4</th>\n",
       "      <td>USC00304174</td>\n",
       "      <td>ITHACA CORNELL UNIVERSITY, NY US</td>\n",
       "      <td>42.44915</td>\n",
       "      <td>-76.44905</td>\n",
       "      <td>292.6</td>\n",
       "      <td>2021-01-05</td>\n",
       "      <td>NaN</td>\n",
       "      <td>NaN</td>\n",
       "      <td>0.00</td>\n",
       "      <td>T,,7,0700</td>\n",
       "      <td>0.0</td>\n",
       "      <td>T,,7,0700</td>\n",
       "      <td>1</td>\n",
       "      <td>,,7,0700</td>\n",
       "      <td>33</td>\n",
       "      <td>,,7</td>\n",
       "      <td>30</td>\n",
       "      <td>,,7</td>\n",
       "      <td>30</td>\n",
       "      <td>,,7,0700</td>\n",
       "    </tr>\n",
       "  </tbody>\n",
       "</table>\n",
       "</div>"
      ],
      "text/plain": [
       "       STATION                              NAME  LATITUDE  LONGITUDE  \\\n",
       "0  USC00304174  ITHACA CORNELL UNIVERSITY, NY US  42.44915  -76.44905   \n",
       "1  USC00304174  ITHACA CORNELL UNIVERSITY, NY US  42.44915  -76.44905   \n",
       "2  USC00304174  ITHACA CORNELL UNIVERSITY, NY US  42.44915  -76.44905   \n",
       "3  USC00304174  ITHACA CORNELL UNIVERSITY, NY US  42.44915  -76.44905   \n",
       "4  USC00304174  ITHACA CORNELL UNIVERSITY, NY US  42.44915  -76.44905   \n",
       "\n",
       "   ELEVATION       DATE  EVAP EVAP_ATTRIBUTES  PRCP PRCP_ATTRIBUTES  SNOW  \\\n",
       "0      292.6 2021-01-01   NaN             NaN  0.00        ,,7,0700   0.0   \n",
       "1      292.6 2021-01-02   NaN             NaN  0.47        ,,7,0700   0.0   \n",
       "2      292.6 2021-01-03   NaN             NaN  0.00       T,,7,0700   0.0   \n",
       "3      292.6 2021-01-04   NaN             NaN  0.14        ,,7,0700   1.4   \n",
       "4      292.6 2021-01-05   NaN             NaN  0.00       T,,7,0700   0.0   \n",
       "\n",
       "  SNOW_ATTRIBUTES  SNWD SNWD_ATTRIBUTES  TMAX TMAX_ATTRIBUTES  TMIN  \\\n",
       "0        ,,7,0700     0        ,,7,0700    33             ,,7    25   \n",
       "1        ,,7,0700     0        ,,7,0700    40             ,,7    24   \n",
       "2       T,,7,0700     0        ,,7,0700    42             ,,7    27   \n",
       "3        ,,7,0700     1        ,,7,0700    35             ,,7    27   \n",
       "4       T,,7,0700     1        ,,7,0700    33             ,,7    30   \n",
       "\n",
       "  TMIN_ATTRIBUTES  TOBS TOBS_ATTRIBUTES  \n",
       "0             ,,7    26        ,,7,0700  \n",
       "1             ,,7    40        ,,7,0700  \n",
       "2             ,,7    27        ,,7,0700  \n",
       "3             ,,7    32        ,,7,0700  \n",
       "4             ,,7    30        ,,7,0700  "
      ]
     },
     "execution_count": 2,
     "metadata": {},
     "output_type": "execute_result"
    }
   ],
   "source": [
    "df = pd.read_excel(\"Cornell_Weather_Data_2021.1-2022.4.xlsx\")\n",
    "df.head()"
   ]
  },
  {
   "cell_type": "markdown",
   "metadata": {},
   "source": [
    "The column names are all in capital letters, which is not easy for later reference. We will convert them into lowercase first."
   ]
  },
  {
   "cell_type": "code",
   "execution_count": 3,
   "metadata": {
    "id": "ADbJ1hgCozPw"
   },
   "outputs": [],
   "source": [
    "df.columns = [i.lower() for i in df.columns]"
   ]
  },
  {
   "cell_type": "code",
   "execution_count": 4,
   "metadata": {
    "id": "mOPRUztLoxXu"
   },
   "outputs": [
    {
     "name": "stdout",
     "output_type": "stream",
     "text": [
      "Index(['station', 'name', 'latitude', 'longitude', 'elevation', 'date', 'evap',\n",
      "       'evap_attributes', 'prcp', 'prcp_attributes', 'snow', 'snow_attributes',\n",
      "       'snwd', 'snwd_attributes', 'tmax', 'tmax_attributes', 'tmin',\n",
      "       'tmin_attributes', 'tobs', 'tobs_attributes'],\n",
      "      dtype='object')\n"
     ]
    }
   ],
   "source": [
    "print(df.columns)"
   ]
  },
  {
   "cell_type": "markdown",
   "metadata": {},
   "source": [
    "Because all data in `df` come from one specific observation station at Cornell University, Ithaca, NY, with ID number USC00304174, `station`, `name`, `latitude`, `longitude`, `elevation` are redundant identification columns that we can drop."
   ]
  },
  {
   "cell_type": "code",
   "execution_count": 5,
   "metadata": {
    "id": "QhQirCiqoJGc"
   },
   "outputs": [
    {
     "data": {
      "text/html": [
       "<div>\n",
       "<style scoped>\n",
       "    .dataframe tbody tr th:only-of-type {\n",
       "        vertical-align: middle;\n",
       "    }\n",
       "\n",
       "    .dataframe tbody tr th {\n",
       "        vertical-align: top;\n",
       "    }\n",
       "\n",
       "    .dataframe thead th {\n",
       "        text-align: right;\n",
       "    }\n",
       "</style>\n",
       "<table border=\"1\" class=\"dataframe\">\n",
       "  <thead>\n",
       "    <tr style=\"text-align: right;\">\n",
       "      <th></th>\n",
       "      <th>date</th>\n",
       "      <th>evap</th>\n",
       "      <th>evap_attributes</th>\n",
       "      <th>prcp</th>\n",
       "      <th>prcp_attributes</th>\n",
       "      <th>snow</th>\n",
       "      <th>snow_attributes</th>\n",
       "      <th>snwd</th>\n",
       "      <th>snwd_attributes</th>\n",
       "      <th>tmax</th>\n",
       "      <th>tmax_attributes</th>\n",
       "      <th>tmin</th>\n",
       "      <th>tmin_attributes</th>\n",
       "      <th>tobs</th>\n",
       "      <th>tobs_attributes</th>\n",
       "    </tr>\n",
       "  </thead>\n",
       "  <tbody>\n",
       "    <tr>\n",
       "      <th>0</th>\n",
       "      <td>2021-01-01</td>\n",
       "      <td>NaN</td>\n",
       "      <td>NaN</td>\n",
       "      <td>0.00</td>\n",
       "      <td>,,7,0700</td>\n",
       "      <td>0.0</td>\n",
       "      <td>,,7,0700</td>\n",
       "      <td>0</td>\n",
       "      <td>,,7,0700</td>\n",
       "      <td>33</td>\n",
       "      <td>,,7</td>\n",
       "      <td>25</td>\n",
       "      <td>,,7</td>\n",
       "      <td>26</td>\n",
       "      <td>,,7,0700</td>\n",
       "    </tr>\n",
       "    <tr>\n",
       "      <th>1</th>\n",
       "      <td>2021-01-02</td>\n",
       "      <td>NaN</td>\n",
       "      <td>NaN</td>\n",
       "      <td>0.47</td>\n",
       "      <td>,,7,0700</td>\n",
       "      <td>0.0</td>\n",
       "      <td>,,7,0700</td>\n",
       "      <td>0</td>\n",
       "      <td>,,7,0700</td>\n",
       "      <td>40</td>\n",
       "      <td>,,7</td>\n",
       "      <td>24</td>\n",
       "      <td>,,7</td>\n",
       "      <td>40</td>\n",
       "      <td>,,7,0700</td>\n",
       "    </tr>\n",
       "    <tr>\n",
       "      <th>2</th>\n",
       "      <td>2021-01-03</td>\n",
       "      <td>NaN</td>\n",
       "      <td>NaN</td>\n",
       "      <td>0.00</td>\n",
       "      <td>T,,7,0700</td>\n",
       "      <td>0.0</td>\n",
       "      <td>T,,7,0700</td>\n",
       "      <td>0</td>\n",
       "      <td>,,7,0700</td>\n",
       "      <td>42</td>\n",
       "      <td>,,7</td>\n",
       "      <td>27</td>\n",
       "      <td>,,7</td>\n",
       "      <td>27</td>\n",
       "      <td>,,7,0700</td>\n",
       "    </tr>\n",
       "    <tr>\n",
       "      <th>3</th>\n",
       "      <td>2021-01-04</td>\n",
       "      <td>NaN</td>\n",
       "      <td>NaN</td>\n",
       "      <td>0.14</td>\n",
       "      <td>,,7,0700</td>\n",
       "      <td>1.4</td>\n",
       "      <td>,,7,0700</td>\n",
       "      <td>1</td>\n",
       "      <td>,,7,0700</td>\n",
       "      <td>35</td>\n",
       "      <td>,,7</td>\n",
       "      <td>27</td>\n",
       "      <td>,,7</td>\n",
       "      <td>32</td>\n",
       "      <td>,,7,0700</td>\n",
       "    </tr>\n",
       "    <tr>\n",
       "      <th>4</th>\n",
       "      <td>2021-01-05</td>\n",
       "      <td>NaN</td>\n",
       "      <td>NaN</td>\n",
       "      <td>0.00</td>\n",
       "      <td>T,,7,0700</td>\n",
       "      <td>0.0</td>\n",
       "      <td>T,,7,0700</td>\n",
       "      <td>1</td>\n",
       "      <td>,,7,0700</td>\n",
       "      <td>33</td>\n",
       "      <td>,,7</td>\n",
       "      <td>30</td>\n",
       "      <td>,,7</td>\n",
       "      <td>30</td>\n",
       "      <td>,,7,0700</td>\n",
       "    </tr>\n",
       "  </tbody>\n",
       "</table>\n",
       "</div>"
      ],
      "text/plain": [
       "        date  evap evap_attributes  prcp prcp_attributes  snow  \\\n",
       "0 2021-01-01   NaN             NaN  0.00        ,,7,0700   0.0   \n",
       "1 2021-01-02   NaN             NaN  0.47        ,,7,0700   0.0   \n",
       "2 2021-01-03   NaN             NaN  0.00       T,,7,0700   0.0   \n",
       "3 2021-01-04   NaN             NaN  0.14        ,,7,0700   1.4   \n",
       "4 2021-01-05   NaN             NaN  0.00       T,,7,0700   0.0   \n",
       "\n",
       "  snow_attributes  snwd snwd_attributes  tmax tmax_attributes  tmin  \\\n",
       "0        ,,7,0700     0        ,,7,0700    33             ,,7    25   \n",
       "1        ,,7,0700     0        ,,7,0700    40             ,,7    24   \n",
       "2       T,,7,0700     0        ,,7,0700    42             ,,7    27   \n",
       "3        ,,7,0700     1        ,,7,0700    35             ,,7    27   \n",
       "4       T,,7,0700     1        ,,7,0700    33             ,,7    30   \n",
       "\n",
       "  tmin_attributes  tobs tobs_attributes  \n",
       "0             ,,7    26        ,,7,0700  \n",
       "1             ,,7    40        ,,7,0700  \n",
       "2             ,,7    27        ,,7,0700  \n",
       "3             ,,7    32        ,,7,0700  \n",
       "4             ,,7    30        ,,7,0700  "
      ]
     },
     "execution_count": 5,
     "metadata": {},
     "output_type": "execute_result"
    }
   ],
   "source": [
    "df.drop(labels = ['station', 'name', 'latitude', 'longitude', 'elevation'], axis = 1, inplace = True)\n",
    "df.head()"
   ]
  },
  {
   "cell_type": "markdown",
   "metadata": {},
   "source": [
    "All columns whose names end with \"attributes\" are placeholders. They don't have actual meanings. So we decided to drop them to make our dataframe more concise."
   ]
  },
  {
   "cell_type": "code",
   "execution_count": 6,
   "metadata": {},
   "outputs": [
    {
     "data": {
      "text/html": [
       "<div>\n",
       "<style scoped>\n",
       "    .dataframe tbody tr th:only-of-type {\n",
       "        vertical-align: middle;\n",
       "    }\n",
       "\n",
       "    .dataframe tbody tr th {\n",
       "        vertical-align: top;\n",
       "    }\n",
       "\n",
       "    .dataframe thead th {\n",
       "        text-align: right;\n",
       "    }\n",
       "</style>\n",
       "<table border=\"1\" class=\"dataframe\">\n",
       "  <thead>\n",
       "    <tr style=\"text-align: right;\">\n",
       "      <th></th>\n",
       "      <th>date</th>\n",
       "      <th>evap</th>\n",
       "      <th>prcp</th>\n",
       "      <th>snow</th>\n",
       "      <th>snwd</th>\n",
       "      <th>tmax</th>\n",
       "      <th>tmin</th>\n",
       "      <th>tobs</th>\n",
       "    </tr>\n",
       "  </thead>\n",
       "  <tbody>\n",
       "    <tr>\n",
       "      <th>0</th>\n",
       "      <td>2021-01-01</td>\n",
       "      <td>NaN</td>\n",
       "      <td>0.00</td>\n",
       "      <td>0.0</td>\n",
       "      <td>0</td>\n",
       "      <td>33</td>\n",
       "      <td>25</td>\n",
       "      <td>26</td>\n",
       "    </tr>\n",
       "    <tr>\n",
       "      <th>1</th>\n",
       "      <td>2021-01-02</td>\n",
       "      <td>NaN</td>\n",
       "      <td>0.47</td>\n",
       "      <td>0.0</td>\n",
       "      <td>0</td>\n",
       "      <td>40</td>\n",
       "      <td>24</td>\n",
       "      <td>40</td>\n",
       "    </tr>\n",
       "    <tr>\n",
       "      <th>2</th>\n",
       "      <td>2021-01-03</td>\n",
       "      <td>NaN</td>\n",
       "      <td>0.00</td>\n",
       "      <td>0.0</td>\n",
       "      <td>0</td>\n",
       "      <td>42</td>\n",
       "      <td>27</td>\n",
       "      <td>27</td>\n",
       "    </tr>\n",
       "    <tr>\n",
       "      <th>3</th>\n",
       "      <td>2021-01-04</td>\n",
       "      <td>NaN</td>\n",
       "      <td>0.14</td>\n",
       "      <td>1.4</td>\n",
       "      <td>1</td>\n",
       "      <td>35</td>\n",
       "      <td>27</td>\n",
       "      <td>32</td>\n",
       "    </tr>\n",
       "    <tr>\n",
       "      <th>4</th>\n",
       "      <td>2021-01-05</td>\n",
       "      <td>NaN</td>\n",
       "      <td>0.00</td>\n",
       "      <td>0.0</td>\n",
       "      <td>1</td>\n",
       "      <td>33</td>\n",
       "      <td>30</td>\n",
       "      <td>30</td>\n",
       "    </tr>\n",
       "  </tbody>\n",
       "</table>\n",
       "</div>"
      ],
      "text/plain": [
       "        date  evap  prcp  snow  snwd  tmax  tmin  tobs\n",
       "0 2021-01-01   NaN  0.00   0.0     0    33    25    26\n",
       "1 2021-01-02   NaN  0.47   0.0     0    40    24    40\n",
       "2 2021-01-03   NaN  0.00   0.0     0    42    27    27\n",
       "3 2021-01-04   NaN  0.14   1.4     1    35    27    32\n",
       "4 2021-01-05   NaN  0.00   0.0     1    33    30    30"
      ]
     },
     "execution_count": 6,
     "metadata": {},
     "output_type": "execute_result"
    }
   ],
   "source": [
    "df.drop(labels = ['evap_attributes', 'prcp_attributes', 'snow_attributes', 'snwd_attributes',\n",
    "                  'tmax_attributes', 'tmin_attributes', 'tobs_attributes'], axis = 1, inplace = True)\n",
    "df.head()"
   ]
  },
  {
   "cell_type": "markdown",
   "metadata": {},
   "source": [
    "We will save the cleaned dataframe to a new file called `final_data` so that we don't need to perform data cleaning every time we reopen this notebook."
   ]
  },
  {
   "cell_type": "code",
   "execution_count": 7,
   "metadata": {},
   "outputs": [],
   "source": [
    "df.to_csv(\"final_data.csv\", index = False)"
   ]
  },
  {
   "cell_type": "markdown",
   "metadata": {},
   "source": [
    "## Exploratory Data Analysis (EDA) and Data Visualization"
   ]
  },
  {
   "cell_type": "code",
   "execution_count": 8,
   "metadata": {},
   "outputs": [
    {
     "data": {
      "text/html": [
       "<div>\n",
       "<style scoped>\n",
       "    .dataframe tbody tr th:only-of-type {\n",
       "        vertical-align: middle;\n",
       "    }\n",
       "\n",
       "    .dataframe tbody tr th {\n",
       "        vertical-align: top;\n",
       "    }\n",
       "\n",
       "    .dataframe thead th {\n",
       "        text-align: right;\n",
       "    }\n",
       "</style>\n",
       "<table border=\"1\" class=\"dataframe\">\n",
       "  <thead>\n",
       "    <tr style=\"text-align: right;\">\n",
       "      <th></th>\n",
       "      <th>date</th>\n",
       "      <th>evap</th>\n",
       "      <th>prcp</th>\n",
       "      <th>snow</th>\n",
       "      <th>snwd</th>\n",
       "      <th>tmax</th>\n",
       "      <th>tmin</th>\n",
       "      <th>tobs</th>\n",
       "    </tr>\n",
       "  </thead>\n",
       "  <tbody>\n",
       "    <tr>\n",
       "      <th>0</th>\n",
       "      <td>2021-01-01</td>\n",
       "      <td>NaN</td>\n",
       "      <td>0.00</td>\n",
       "      <td>0.0</td>\n",
       "      <td>0</td>\n",
       "      <td>33</td>\n",
       "      <td>25</td>\n",
       "      <td>26</td>\n",
       "    </tr>\n",
       "    <tr>\n",
       "      <th>1</th>\n",
       "      <td>2021-01-02</td>\n",
       "      <td>NaN</td>\n",
       "      <td>0.47</td>\n",
       "      <td>0.0</td>\n",
       "      <td>0</td>\n",
       "      <td>40</td>\n",
       "      <td>24</td>\n",
       "      <td>40</td>\n",
       "    </tr>\n",
       "    <tr>\n",
       "      <th>2</th>\n",
       "      <td>2021-01-03</td>\n",
       "      <td>NaN</td>\n",
       "      <td>0.00</td>\n",
       "      <td>0.0</td>\n",
       "      <td>0</td>\n",
       "      <td>42</td>\n",
       "      <td>27</td>\n",
       "      <td>27</td>\n",
       "    </tr>\n",
       "    <tr>\n",
       "      <th>3</th>\n",
       "      <td>2021-01-04</td>\n",
       "      <td>NaN</td>\n",
       "      <td>0.14</td>\n",
       "      <td>1.4</td>\n",
       "      <td>1</td>\n",
       "      <td>35</td>\n",
       "      <td>27</td>\n",
       "      <td>32</td>\n",
       "    </tr>\n",
       "    <tr>\n",
       "      <th>4</th>\n",
       "      <td>2021-01-05</td>\n",
       "      <td>NaN</td>\n",
       "      <td>0.00</td>\n",
       "      <td>0.0</td>\n",
       "      <td>1</td>\n",
       "      <td>33</td>\n",
       "      <td>30</td>\n",
       "      <td>30</td>\n",
       "    </tr>\n",
       "  </tbody>\n",
       "</table>\n",
       "</div>"
      ],
      "text/plain": [
       "         date  evap  prcp  snow  snwd  tmax  tmin  tobs\n",
       "0  2021-01-01   NaN  0.00   0.0     0    33    25    26\n",
       "1  2021-01-02   NaN  0.47   0.0     0    40    24    40\n",
       "2  2021-01-03   NaN  0.00   0.0     0    42    27    27\n",
       "3  2021-01-04   NaN  0.14   1.4     1    35    27    32\n",
       "4  2021-01-05   NaN  0.00   0.0     1    33    30    30"
      ]
     },
     "execution_count": 8,
     "metadata": {},
     "output_type": "execute_result"
    }
   ],
   "source": [
    "df = pd.read_csv(\"final_data.csv\")\n",
    "df.head()"
   ]
  },
  {
   "cell_type": "markdown",
   "metadata": {},
   "source": [
    "We will then calculate summary statistics to better understand `df`."
   ]
  },
  {
   "cell_type": "code",
   "execution_count": 9,
   "metadata": {},
   "outputs": [
    {
     "data": {
      "text/html": [
       "<div>\n",
       "<style scoped>\n",
       "    .dataframe tbody tr th:only-of-type {\n",
       "        vertical-align: middle;\n",
       "    }\n",
       "\n",
       "    .dataframe tbody tr th {\n",
       "        vertical-align: top;\n",
       "    }\n",
       "\n",
       "    .dataframe thead th {\n",
       "        text-align: right;\n",
       "    }\n",
       "</style>\n",
       "<table border=\"1\" class=\"dataframe\">\n",
       "  <thead>\n",
       "    <tr style=\"text-align: right;\">\n",
       "      <th></th>\n",
       "      <th>evap</th>\n",
       "      <th>prcp</th>\n",
       "      <th>snow</th>\n",
       "      <th>snwd</th>\n",
       "      <th>tmax</th>\n",
       "      <th>tmin</th>\n",
       "      <th>tobs</th>\n",
       "    </tr>\n",
       "  </thead>\n",
       "  <tbody>\n",
       "    <tr>\n",
       "      <th>count</th>\n",
       "      <td>175.000000</td>\n",
       "      <td>467.000000</td>\n",
       "      <td>467.000000</td>\n",
       "      <td>467.000000</td>\n",
       "      <td>467.000000</td>\n",
       "      <td>467.000000</td>\n",
       "      <td>467.000000</td>\n",
       "    </tr>\n",
       "    <tr>\n",
       "      <th>mean</th>\n",
       "      <td>0.161371</td>\n",
       "      <td>0.121799</td>\n",
       "      <td>0.249036</td>\n",
       "      <td>1.665953</td>\n",
       "      <td>53.436831</td>\n",
       "      <td>33.961456</td>\n",
       "      <td>39.477516</td>\n",
       "    </tr>\n",
       "    <tr>\n",
       "      <th>std</th>\n",
       "      <td>0.077514</td>\n",
       "      <td>0.274922</td>\n",
       "      <td>0.978357</td>\n",
       "      <td>3.825566</td>\n",
       "      <td>20.566175</td>\n",
       "      <td>19.122112</td>\n",
       "      <td>18.608717</td>\n",
       "    </tr>\n",
       "    <tr>\n",
       "      <th>min</th>\n",
       "      <td>0.020000</td>\n",
       "      <td>0.000000</td>\n",
       "      <td>0.000000</td>\n",
       "      <td>0.000000</td>\n",
       "      <td>4.000000</td>\n",
       "      <td>-20.000000</td>\n",
       "      <td>-20.000000</td>\n",
       "    </tr>\n",
       "    <tr>\n",
       "      <th>25%</th>\n",
       "      <td>0.100000</td>\n",
       "      <td>0.000000</td>\n",
       "      <td>0.000000</td>\n",
       "      <td>0.000000</td>\n",
       "      <td>35.000000</td>\n",
       "      <td>22.000000</td>\n",
       "      <td>26.000000</td>\n",
       "    </tr>\n",
       "    <tr>\n",
       "      <th>50%</th>\n",
       "      <td>0.160000</td>\n",
       "      <td>0.010000</td>\n",
       "      <td>0.000000</td>\n",
       "      <td>0.000000</td>\n",
       "      <td>52.000000</td>\n",
       "      <td>32.000000</td>\n",
       "      <td>38.000000</td>\n",
       "    </tr>\n",
       "    <tr>\n",
       "      <th>75%</th>\n",
       "      <td>0.220000</td>\n",
       "      <td>0.095000</td>\n",
       "      <td>0.000000</td>\n",
       "      <td>1.000000</td>\n",
       "      <td>72.000000</td>\n",
       "      <td>50.000000</td>\n",
       "      <td>55.000000</td>\n",
       "    </tr>\n",
       "    <tr>\n",
       "      <th>max</th>\n",
       "      <td>0.340000</td>\n",
       "      <td>2.210000</td>\n",
       "      <td>11.500000</td>\n",
       "      <td>24.000000</td>\n",
       "      <td>93.000000</td>\n",
       "      <td>71.000000</td>\n",
       "      <td>77.000000</td>\n",
       "    </tr>\n",
       "  </tbody>\n",
       "</table>\n",
       "</div>"
      ],
      "text/plain": [
       "             evap        prcp        snow        snwd        tmax        tmin  \\\n",
       "count  175.000000  467.000000  467.000000  467.000000  467.000000  467.000000   \n",
       "mean     0.161371    0.121799    0.249036    1.665953   53.436831   33.961456   \n",
       "std      0.077514    0.274922    0.978357    3.825566   20.566175   19.122112   \n",
       "min      0.020000    0.000000    0.000000    0.000000    4.000000  -20.000000   \n",
       "25%      0.100000    0.000000    0.000000    0.000000   35.000000   22.000000   \n",
       "50%      0.160000    0.010000    0.000000    0.000000   52.000000   32.000000   \n",
       "75%      0.220000    0.095000    0.000000    1.000000   72.000000   50.000000   \n",
       "max      0.340000    2.210000   11.500000   24.000000   93.000000   71.000000   \n",
       "\n",
       "             tobs  \n",
       "count  467.000000  \n",
       "mean    39.477516  \n",
       "std     18.608717  \n",
       "min    -20.000000  \n",
       "25%     26.000000  \n",
       "50%     38.000000  \n",
       "75%     55.000000  \n",
       "max     77.000000  "
      ]
     },
     "execution_count": 9,
     "metadata": {},
     "output_type": "execute_result"
    }
   ],
   "source": [
    "df.describe()"
   ]
  },
  {
   "cell_type": "markdown",
   "metadata": {},
   "source": [
    "Next, we will perform some data visualization and try to detect any patterns and some potential relationships between `tmax`, `tmin`, and `snow`."
   ]
  },
  {
   "cell_type": "code",
   "execution_count": 10,
   "metadata": {},
   "outputs": [
    {
     "data": {
      "image/png": "[encoded data removed]",
      "text/plain": [
       "<Figure size 432x288 with 1 Axes>"
      ]
     },
     "metadata": {
      "needs_background": "light"
     },
     "output_type": "display_data"
    }
   ],
   "source": [
    "plt.scatter(df[\"tmin\"], df[\"snow\"], alpha = 0.5)\n",
    "plt.xlabel(\"Minimum Temperature\")\n",
    "plt.ylabel(\"Amount of snow\")\n",
    "plt.title(\"Minimum Temperature vs amount of snow\");"
   ]
  },
  {
   "cell_type": "markdown",
   "metadata": {},
   "source": [
    "We realized that in spring, summer, and fall, no snow is observed. So we decided to look at the winter interval only. Winter is defined as from December to March by WeatherSpark (website: https://weatherspark.com/y/22130/Average-Weather-in-Ithaca-New-York-United-States-Year-Round). So we want to focus on data recorded between December and March and create a new dataframe called `df_temp_snow`."
   ]
  },
  {
   "cell_type": "code",
   "execution_count": 11,
   "metadata": {},
   "outputs": [
    {
     "data": {
      "text/html": [
       "<div>\n",
       "<style scoped>\n",
       "    .dataframe tbody tr th:only-of-type {\n",
       "        vertical-align: middle;\n",
       "    }\n",
       "\n",
       "    .dataframe tbody tr th {\n",
       "        vertical-align: top;\n",
       "    }\n",
       "\n",
       "    .dataframe thead th {\n",
       "        text-align: right;\n",
       "    }\n",
       "</style>\n",
       "<table border=\"1\" class=\"dataframe\">\n",
       "  <thead>\n",
       "    <tr style=\"text-align: right;\">\n",
       "      <th></th>\n",
       "      <th>date</th>\n",
       "      <th>evap</th>\n",
       "      <th>prcp</th>\n",
       "      <th>snow</th>\n",
       "      <th>snwd</th>\n",
       "      <th>tmax</th>\n",
       "      <th>tmin</th>\n",
       "      <th>tobs</th>\n",
       "    </tr>\n",
       "  </thead>\n",
       "  <tbody>\n",
       "    <tr>\n",
       "      <th>0</th>\n",
       "      <td>2021-01-01</td>\n",
       "      <td>NaN</td>\n",
       "      <td>0.00</td>\n",
       "      <td>0.0</td>\n",
       "      <td>0</td>\n",
       "      <td>33</td>\n",
       "      <td>25</td>\n",
       "      <td>26</td>\n",
       "    </tr>\n",
       "    <tr>\n",
       "      <th>1</th>\n",
       "      <td>2021-01-02</td>\n",
       "      <td>NaN</td>\n",
       "      <td>0.47</td>\n",
       "      <td>0.0</td>\n",
       "      <td>0</td>\n",
       "      <td>40</td>\n",
       "      <td>24</td>\n",
       "      <td>40</td>\n",
       "    </tr>\n",
       "    <tr>\n",
       "      <th>2</th>\n",
       "      <td>2021-01-03</td>\n",
       "      <td>NaN</td>\n",
       "      <td>0.00</td>\n",
       "      <td>0.0</td>\n",
       "      <td>0</td>\n",
       "      <td>42</td>\n",
       "      <td>27</td>\n",
       "      <td>27</td>\n",
       "    </tr>\n",
       "    <tr>\n",
       "      <th>3</th>\n",
       "      <td>2021-01-04</td>\n",
       "      <td>NaN</td>\n",
       "      <td>0.14</td>\n",
       "      <td>1.4</td>\n",
       "      <td>1</td>\n",
       "      <td>35</td>\n",
       "      <td>27</td>\n",
       "      <td>32</td>\n",
       "    </tr>\n",
       "    <tr>\n",
       "      <th>4</th>\n",
       "      <td>2021-01-05</td>\n",
       "      <td>NaN</td>\n",
       "      <td>0.00</td>\n",
       "      <td>0.0</td>\n",
       "      <td>1</td>\n",
       "      <td>33</td>\n",
       "      <td>30</td>\n",
       "      <td>30</td>\n",
       "    </tr>\n",
       "  </tbody>\n",
       "</table>\n",
       "</div>"
      ],
      "text/plain": [
       "         date  evap  prcp  snow  snwd  tmax  tmin  tobs\n",
       "0  2021-01-01   NaN  0.00   0.0     0    33    25    26\n",
       "1  2021-01-02   NaN  0.47   0.0     0    40    24    40\n",
       "2  2021-01-03   NaN  0.00   0.0     0    42    27    27\n",
       "3  2021-01-04   NaN  0.14   1.4     1    35    27    32\n",
       "4  2021-01-05   NaN  0.00   0.0     1    33    30    30"
      ]
     },
     "execution_count": 11,
     "metadata": {},
     "output_type": "execute_result"
    }
   ],
   "source": [
    "winter = [\"12\", \"01\", \"02\", \"03\"]\n",
    "result_index = []\n",
    "for i in df[\"date\"].index:\n",
    "    if df.loc[i, \"date\"][5:7] in winter:\n",
    "        result_index.append(i)\n",
    "df_temp_snow = df.loc[result_index]\n",
    "df_temp_snow.head()"
   ]
  },
  {
   "cell_type": "markdown",
   "metadata": {},
   "source": [
    "### Minimum temperature vs. Amount of snow"
   ]
  },
  {
   "cell_type": "code",
   "execution_count": 12,
   "metadata": {},
   "outputs": [
    {
     "data": {
      "image/png": "[encoded data removed]",
      "text/plain": [
       "<Figure size 432x288 with 1 Axes>"
      ]
     },
     "metadata": {
      "needs_background": "light"
     },
     "output_type": "display_data"
    }
   ],
   "source": [
    "plt.scatter(df_temp_snow[\"tmin\"], df_temp_snow[\"snow\"], alpha = 0.5)\n",
    "plt.xlabel(\"Minimum Temperature\")\n",
    "plt.ylabel(\"Amount of snow\")\n",
    "plt.title(\"Minimum Temperature vs amount of snow\");"
   ]
  },
  {
   "cell_type": "markdown",
   "metadata": {},
   "source": [
    "### Maximum temperature vs. Amount of snow"
   ]
  },
  {
   "cell_type": "code",
   "execution_count": 13,
   "metadata": {},
   "outputs": [
    {
     "data": {
      "image/png": "[encoded data removed]",
      "text/plain": [
       "<Figure size 432x288 with 1 Axes>"
      ]
     },
     "metadata": {
      "needs_background": "light"
     },
     "output_type": "display_data"
    }
   ],
   "source": [
    "plt.scatter(df_temp_snow[\"tmax\"], df_temp_snow[\"snow\"], alpha = 0.5)\n",
    "plt.xlabel(\"Maximum Temperature\")\n",
    "plt.ylabel(\"Amount of snow\")\n",
    "plt.title(\"Maximum Temperature vs Amount of snow\");"
   ]
  },
  {
   "cell_type": "markdown",
   "metadata": {},
   "source": [
    "### Precipitation vs. Amount of snow"
   ]
  },
  {
   "cell_type": "code",
   "execution_count": 14,
   "metadata": {},
   "outputs": [
    {
     "data": {
      "image/png": "[encoded data removed]",
      "text/plain": [
       "<Figure size 432x288 with 1 Axes>"
      ]
     },
     "metadata": {
      "needs_background": "light"
     },
     "output_type": "display_data"
    }
   ],
   "source": [
    "plt.scatter(df_temp_snow[\"prcp\"], df_temp_snow[\"snow\"], alpha = 0.5)\n",
    "plt.xlabel(\"Precipitation\")\n",
    "plt.ylabel(\"Amount of snow\")\n",
    "plt.title(\"Precipitation vs Amount of snow\");"
   ]
  },
  {
   "cell_type": "markdown",
   "metadata": {
    "id": "Dzm-pk8nnGZy"
   },
   "source": [
    "## Model Building & Inferences"
   ]
  },
  {
   "cell_type": "markdown",
   "metadata": {},
   "source": [
    "### Snow or Not? - Logistic Regression Model"
   ]
  },
  {
   "cell_type": "markdown",
   "metadata": {},
   "source": [
    "Now we want to create dummy variables to indicate whether that date snowed or not."
   ]
  },
  {
   "cell_type": "code",
   "execution_count": 15,
   "metadata": {},
   "outputs": [
    {
     "data": {
      "text/html": [
       "<div>\n",
       "<style scoped>\n",
       "    .dataframe tbody tr th:only-of-type {\n",
       "        vertical-align: middle;\n",
       "    }\n",
       "\n",
       "    .dataframe tbody tr th {\n",
       "        vertical-align: top;\n",
       "    }\n",
       "\n",
       "    .dataframe thead th {\n",
       "        text-align: right;\n",
       "    }\n",
       "</style>\n",
       "<table border=\"1\" class=\"dataframe\">\n",
       "  <thead>\n",
       "    <tr style=\"text-align: right;\">\n",
       "      <th></th>\n",
       "      <th>date</th>\n",
       "      <th>evap</th>\n",
       "      <th>prcp</th>\n",
       "      <th>snow</th>\n",
       "      <th>snwd</th>\n",
       "      <th>tmax</th>\n",
       "      <th>tmin</th>\n",
       "      <th>tobs</th>\n",
       "      <th>snow?</th>\n",
       "    </tr>\n",
       "  </thead>\n",
       "  <tbody>\n",
       "    <tr>\n",
       "      <th>0</th>\n",
       "      <td>2021-01-01</td>\n",
       "      <td>NaN</td>\n",
       "      <td>0.00</td>\n",
       "      <td>0.0</td>\n",
       "      <td>0</td>\n",
       "      <td>33</td>\n",
       "      <td>25</td>\n",
       "      <td>26</td>\n",
       "      <td>0</td>\n",
       "    </tr>\n",
       "    <tr>\n",
       "      <th>1</th>\n",
       "      <td>2021-01-02</td>\n",
       "      <td>NaN</td>\n",
       "      <td>0.47</td>\n",
       "      <td>0.0</td>\n",
       "      <td>0</td>\n",
       "      <td>40</td>\n",
       "      <td>24</td>\n",
       "      <td>40</td>\n",
       "      <td>0</td>\n",
       "    </tr>\n",
       "    <tr>\n",
       "      <th>2</th>\n",
       "      <td>2021-01-03</td>\n",
       "      <td>NaN</td>\n",
       "      <td>0.00</td>\n",
       "      <td>0.0</td>\n",
       "      <td>0</td>\n",
       "      <td>42</td>\n",
       "      <td>27</td>\n",
       "      <td>27</td>\n",
       "      <td>0</td>\n",
       "    </tr>\n",
       "    <tr>\n",
       "      <th>3</th>\n",
       "      <td>2021-01-04</td>\n",
       "      <td>NaN</td>\n",
       "      <td>0.14</td>\n",
       "      <td>1.4</td>\n",
       "      <td>1</td>\n",
       "      <td>35</td>\n",
       "      <td>27</td>\n",
       "      <td>32</td>\n",
       "      <td>1</td>\n",
       "    </tr>\n",
       "    <tr>\n",
       "      <th>4</th>\n",
       "      <td>2021-01-05</td>\n",
       "      <td>NaN</td>\n",
       "      <td>0.00</td>\n",
       "      <td>0.0</td>\n",
       "      <td>1</td>\n",
       "      <td>33</td>\n",
       "      <td>30</td>\n",
       "      <td>30</td>\n",
       "      <td>0</td>\n",
       "    </tr>\n",
       "  </tbody>\n",
       "</table>\n",
       "</div>"
      ],
      "text/plain": [
       "         date  evap  prcp  snow  snwd  tmax  tmin  tobs  snow?\n",
       "0  2021-01-01   NaN  0.00   0.0     0    33    25    26      0\n",
       "1  2021-01-02   NaN  0.47   0.0     0    40    24    40      0\n",
       "2  2021-01-03   NaN  0.00   0.0     0    42    27    27      0\n",
       "3  2021-01-04   NaN  0.14   1.4     1    35    27    32      1\n",
       "4  2021-01-05   NaN  0.00   0.0     1    33    30    30      0"
      ]
     },
     "execution_count": 15,
     "metadata": {},
     "output_type": "execute_result"
    }
   ],
   "source": [
    "snow_dummies = []\n",
    "for i in df_temp_snow.index:\n",
    "    if df_temp_snow.loc[i, \"snow\"] > 0.0:\n",
    "        snow_dummies.append(1)\n",
    "    else:\n",
    "        snow_dummies.append(0)\n",
    "df_temp_snow[\"snow?\"] = snow_dummies\n",
    "df_temp_snow.head()"
   ]
  },
  {
   "cell_type": "code",
   "execution_count": 16,
   "metadata": {},
   "outputs": [],
   "source": [
    "from sklearn.linear_model import LogisticRegression\n",
    "from sklearn.model_selection import train_test_split\n",
    "from sklearn.metrics import accuracy_score"
   ]
  },
  {
   "cell_type": "markdown",
   "metadata": {},
   "source": [
    "We will create a logistic model and try to predict whether it will snow or not after spliting train and test sets."
   ]
  },
  {
   "cell_type": "code",
   "execution_count": 17,
   "metadata": {
    "scrolled": false
   },
   "outputs": [
    {
     "name": "stdout",
     "output_type": "stream",
     "text": [
      "Test Accuracy:  0.8095238095238095\n",
      "Train Accuracy:  0.6545454545454545\n"
     ]
    }
   ],
   "source": [
    "X = df_temp_snow[[\"tmin\", \"tmax\"]]\n",
    "Y = df_temp_snow[\"snow?\"]\n",
    "\n",
    "temp_train, temp_test, snow_train, snow_test = train_test_split(X, Y, test_size = 0.2)\n",
    "\n",
    "logistic_model = LogisticRegression()\n",
    "logistic_model.fit(temp_train, snow_train)\n",
    "\n",
    "pred_train_log = logistic_model.predict(temp_train)\n",
    "pred_test_log = logistic_model.predict(temp_test)\n",
    "\n",
    "print(\"Test Accuracy: \", accuracy_score(snow_test, pred_test_log))\n",
    "print(\"Train Accuracy: \", accuracy_score(snow_train, pred_train_log))"
   ]
  },
  {
   "cell_type": "markdown",
   "metadata": {},
   "source": [
    "We have good accuracy scores for both training sets and testing set. I am confident to say that we can rely on this model and predict if it is going to snow using the range of temperature in a specific day by plugging in the minimum temperature and maximum temperature."
   ]
  },
  {
   "cell_type": "markdown",
   "metadata": {},
   "source": [
    "### Snow or Not? - KNN Model"
   ]
  },
  {
   "cell_type": "markdown",
   "metadata": {},
   "source": [
    "In this model, we will use the same train and test sets as in the previous section. Then, we will try to alternate `k` to see which `k` gives us the best performance."
   ]
  },
  {
   "cell_type": "code",
   "execution_count": 18,
   "metadata": {},
   "outputs": [],
   "source": [
    "from sklearn.neighbors import KNeighborsClassifier"
   ]
  },
  {
   "cell_type": "code",
   "execution_count": 19,
   "metadata": {},
   "outputs": [],
   "source": [
    "# Model when k = 1\n",
    "knn_model = KNeighborsClassifier(1)\n",
    "knn_model.fit(temp_train, snow_train)\n",
    "pred_test_knn = knn_model.predict(temp_test)\n",
    "pred_train_knn = knn_model.predict(temp_train)"
   ]
  },
  {
   "cell_type": "code",
   "execution_count": 20,
   "metadata": {},
   "outputs": [
    {
     "name": "stdout",
     "output_type": "stream",
     "text": [
      "Test accuracy 0.6190476190476191\n",
      "Train Accuracy:  0.9454545454545454\n"
     ]
    }
   ],
   "source": [
    "print(\"Test accuracy\", accuracy_score(snow_test, pred_test_knn))\n",
    "print(\"Train Accuracy: \", accuracy_score(snow_train, pred_train_knn))"
   ]
  },
  {
   "cell_type": "code",
   "execution_count": 21,
   "metadata": {},
   "outputs": [],
   "source": [
    "# Model when k = 10\n",
    "knn_model = KNeighborsClassifier(10)\n",
    "knn_model.fit(temp_train, snow_train)\n",
    "pred_test_knn = knn_model.predict(temp_test)\n",
    "pred_train_knn = knn_model.predict(temp_train)"
   ]
  },
  {
   "cell_type": "code",
   "execution_count": 22,
   "metadata": {},
   "outputs": [
    {
     "name": "stdout",
     "output_type": "stream",
     "text": [
      "Test accuracy 0.7857142857142857\n",
      "Train Accuracy:  0.7575757575757576\n"
     ]
    }
   ],
   "source": [
    "print(\"Test accuracy\", accuracy_score(snow_test, pred_test_knn))\n",
    "print(\"Train Accuracy: \", accuracy_score(snow_train, pred_train_knn))"
   ]
  },
  {
   "cell_type": "code",
   "execution_count": 23,
   "metadata": {},
   "outputs": [],
   "source": [
    "# Model when k = 5\n",
    "knn_model = KNeighborsClassifier(5)\n",
    "knn_model.fit(temp_train, snow_train)\n",
    "pred_test_knn = knn_model.predict(temp_test)\n",
    "pred_train_knn = knn_model.predict(temp_train)"
   ]
  },
  {
   "cell_type": "code",
   "execution_count": 24,
   "metadata": {},
   "outputs": [
    {
     "name": "stdout",
     "output_type": "stream",
     "text": [
      "Test accuracy 0.6428571428571429\n",
      "Train Accuracy:  0.7878787878787878\n"
     ]
    }
   ],
   "source": [
    "print(\"Test accuracy\", accuracy_score(snow_test, pred_test_knn))\n",
    "print(\"Train Accuracy: \", accuracy_score(snow_train, pred_train_knn))"
   ]
  },
  {
   "cell_type": "markdown",
   "metadata": {},
   "source": [
    "When k = 5, both accuracy scores are the best. So we will keep the model with k = 10."
   ]
  },
  {
   "cell_type": "code",
   "execution_count": 27,
   "metadata": {},
   "outputs": [
    {
     "name": "stdout",
     "output_type": "stream",
     "text": [
      "Test accuracy 0.7857142857142857\n",
      "Train Accuracy:  0.7575757575757576\n"
     ]
    }
   ],
   "source": [
    "# Model when k = 10\n",
    "knn_model = KNeighborsClassifier(10)\n",
    "knn_model.fit(temp_train, snow_train)\n",
    "pred_test_knn = knn_model.predict(temp_test)\n",
    "pred_train_knn = knn_model.predict(temp_train)\n",
    "print(\"Test accuracy\", accuracy_score(snow_test, pred_test_knn))\n",
    "print(\"Train Accuracy: \", accuracy_score(snow_train, pred_train_knn))"
   ]
  },
  {
   "cell_type": "markdown",
   "metadata": {},
   "source": [
    "## Error Analysis"
   ]
  },
  {
   "cell_type": "code",
   "execution_count": 25,
   "metadata": {},
   "outputs": [
    {
     "data": {
      "image/png": "[encoded data removed]",
      "text/plain": [
       "<Figure size 432x288 with 1 Axes>"
      ]
     },
     "metadata": {
      "needs_background": "light"
     },
     "output_type": "display_data"
    }
   ],
   "source": [
    "# Use confusion matrix to tune and validate model\n",
    "from sklearn.metrics import confusion_matrix\n",
    "tn, fp, fn, tp = confusion_matrix(snow_test, logistic_model.predict(temp_test)).ravel()\n",
    "(tn+tp)/(tn+tp+fp+fn)\n",
    "\n",
    "# Plot a confusion matrix for error analysis\n",
    "plt.figure()\n",
    "con_matrix = confusion_matrix(snow_test, logistic_model.predict(temp_test))\n",
    "sns.heatmap(con_matrix, cmap='YlGnBu', annot=True, cbar=False, square=True, \n",
    "            xticklabels=['not snow', 'snow'], yticklabels=['not snow', 'snow'] )\n",
    "\n",
    "plt.ylabel('True Label')\n",
    "plt.xlabel('Predicted Label')\n",
    "plt.title('Confusion Matrix for Logistic Regression', fontsize = 20)\n",
    "plt.show()"
   ]
  },
  {
   "cell_type": "markdown",
   "metadata": {},
   "source": [
    "In summary, we've randomly split the data into training and target sets. The logistics model was able to accurately classify 30 instances of not snowing and 4 instances of snowing, which is good.\n",
    "\n",
    "However, there are 8 instances of incorrect classifications. There are 6 cases of false positives, where Ithaca were expected to snow when it actually didn't, and 2 cases of false negatives, where the weather was expected to be sunny when it actually snowed.\n",
    "\n",
    "Thus, we see that our model produces a test accuracy of 80% and training accuracy of 65%."
   ]
  },
  {
   "cell_type": "code",
   "execution_count": 28,
   "metadata": {},
   "outputs": [
    {
     "data": {
      "image/png": "[encoded data removed]",
      "text/plain": [
       "<Figure size 432x288 with 1 Axes>"
      ]
     },
     "metadata": {
      "needs_background": "light"
     },
     "output_type": "display_data"
    }
   ],
   "source": [
    "tn, fp, fn, tp = confusion_matrix(snow_test, knn_model.predict(temp_test)).ravel()\n",
    "(tn+tp)/(tn+tp+fp+fn)\n",
    "\n",
    "# Plot a confusion matrix for error analysis\n",
    "plt.figure()\n",
    "con_matrix = confusion_matrix(snow_test, knn_model.predict(temp_test))\n",
    "sns.heatmap(con_matrix, cmap='YlGnBu', annot=True, cbar=False, square=True, \n",
    "            xticklabels=['not snow', 'snow'], yticklabels=['not snow', 'snow'] )\n",
    "\n",
    "plt.ylabel('True Label')\n",
    "plt.xlabel('Predicted Label')\n",
    "plt.title('Confusion Matrix for KNN model', fontsize = 20)\n",
    "plt.show()"
   ]
  },
  {
   "cell_type": "markdown",
   "metadata": {},
   "source": [
    "In summary, we've randomly split the data into training and target sets. The KNN model was able to accurately classify 27 instances of not snowing and 6 instances of snowing, which is good.\n",
    "\n",
    "However, there are 9 instances of incorrect classifications. There are 4 cases of false positives, where Ithaca were expected to snow when it actually didn't, and 5 cases of false negatives, where the weather was expected to be sunny when it actually snowed.\n",
    "\n",
    "Thus, we see that our model produces a test accuracy of 78% and training accuracy of 75%."
   ]
  },
  {
   "cell_type": "markdown",
   "metadata": {},
   "source": [
    "## Discussion"
   ]
  },
  {
   "cell_type": "markdown",
   "metadata": {},
   "source": [
    "One possible limitation is, snowing itself is a random event, which means, even when the temperature is low enough, or the humidity is high enough to snow, it is still likely to not snow."
   ]
  },
  {
   "cell_type": "markdown",
   "metadata": {},
   "source": [
    "## Conclusion"
   ]
  },
  {
   "cell_type": "markdown",
   "metadata": {},
   "source": [
    "With the high accuracy scores of both models, we are confident to say that the range of temperature can help us predict whether that day will snow or not."
   ]
  }
 ],
 "metadata": {
  "colab": {
   "collapsed_sections": [],
   "name": "Untitled0.ipynb",
   "provenance": []
  },
  "kernelspec": {
   "display_name": "Python 3",
   "language": "python",
   "name": "python3"
  },
  "language_info": {
   "codemirror_mode": {
    "name": "ipython",
    "version": 3
   },
   "file_extension": ".py",
   "mimetype": "text/x-python",
   "name": "python",
   "nbconvert_exporter": "python",
   "pygments_lexer": "ipython3",
   "version": "3.8.8"
  }
 },
 "nbformat": 4,
 "nbformat_minor": 1
}
